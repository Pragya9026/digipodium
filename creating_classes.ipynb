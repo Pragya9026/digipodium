{
 "cells": [
  {
   "cell_type": "code",
   "execution_count": 1,
   "metadata": {},
   "outputs": [],
   "source": [
    "names = ['John', 'Bob' , 'Mosh' , 'Sarah','Mary']"
   ]
  },
  {
   "cell_type": "code",
   "execution_count": 4,
   "metadata": {},
   "outputs": [],
   "source": [
    "students =[\n",
    "    {'name': 'John','college': 'Sky high','qualification':'Bachelors'},\n",
    "    {'name': 'Bob','college': 'Sky high','qualification':'Masters'},\n",
    "    {'name': 'Mosh','college': 'Sky high','qualification':'Bachelors'},\n",
    "    {'name': 'Sarah','college': 'Sky high','qualification':'Bachelors'},\n",
    "]"
   ]
  },
  {
   "cell_type": "code",
   "execution_count": 19,
   "metadata": {},
   "outputs": [],
   "source": [
    "class Student:\n",
    "   def __init__(self, name, college, qualification):            \n",
    "      self.name = name\n",
    "      self.college = college\n",
    "      self.qualification = qualification\n",
    "                \n",
    "   def __repr__(self):\n",
    "      return self.name"
   ]
  },
  {
   "cell_type": "code",
   "execution_count": 20,
   "metadata": {},
   "outputs": [],
   "source": [
    "stdObjs = [\n",
    "    Student('Rohan', 'Sky high', 'Bachelors'),\n",
    "    Student('Rahul', 'Sky high', 'Masters'),\n",
    "    Student('Raj', 'Sky high', 'Bachelors'),\n",
    "    Student('Ravi', 'Sky high', 'Bachelors'),\n",
    "]"
   ]
  },
  {
   "cell_type": "code",
   "execution_count": 11,
   "metadata": {},
   "outputs": [
    {
     "data": {
      "text/plain": [
       "[{'name': 'John', 'college': 'Sky high', 'qualification': 'Bachelors'},\n",
       " {'name': 'Bob', 'college': 'Sky high', 'qualification': 'Masters'},\n",
       " {'name': 'Mosh', 'college': 'Sky high', 'qualification': 'Bachelors'},\n",
       " {'name': 'Sarah', 'college': 'Sky high', 'qualification': 'Bachelors'}]"
      ]
     },
     "execution_count": 11,
     "metadata": {},
     "output_type": "execute_result"
    }
   ],
   "source": [
    "students"
   ]
  },
  {
   "cell_type": "code",
   "execution_count": 21,
   "metadata": {},
   "outputs": [
    {
     "data": {
      "text/plain": [
       "[Rohan, Rahul, Raj, Ravi]"
      ]
     },
     "execution_count": 21,
     "metadata": {},
     "output_type": "execute_result"
    }
   ],
   "source": [
    "stdObjs"
   ]
  },
  {
   "cell_type": "code",
   "execution_count": 22,
   "metadata": {},
   "outputs": [],
   "source": [
    "class Triangle:\n",
    "    def __init__(self, b=0, h=0):\n",
    "        self.base = b\n",
    "        self.height = h\n",
    "        \n",
    "\n",
    "    def area(self):\n",
    "        return self.base * self.height/2\n",
    "    \n",
    "\n",
    "    def __repr__(self):\n",
    "        return f'Triangle({self.area()})'    "
   ]
  },
  {
   "cell_type": "code",
   "execution_count": 24,
   "metadata": {},
   "outputs": [
    {
     "data": {
      "text/plain": [
       "[Triangle(30.0), Triangle(25.0), Triangle(60.0), Triangle(75.0)]"
      ]
     },
     "execution_count": 24,
     "metadata": {},
     "output_type": "execute_result"
    }
   ],
   "source": [
    "data = [Triangle(12,5), Triangle(10,5), Triangle(8,15), Triangle(6,25)]\n",
    "data"
   ]
  },
  {
   "cell_type": "code",
   "execution_count": 25,
   "metadata": {},
   "outputs": [],
   "source": [
    "import os\n",
    "class Reader:\n",
    "    def __init__(self, path):\n",
    "        if not os.path.exists(path):\n",
    "            raise Exception('File does not exist')\n",
    "        self.path = path\n",
    "        self.content = self.read()\n",
    "    def read(self):\n",
    "        with open(self.path, 'r') as f:\n",
    "            return f.read()\n",
    "        \n",
    "    def count_words(self):\n",
    "        return len(self.content.split())\n",
    "    \n",
    "    def count_chars(self):\n",
    "        return len(self.content)\n",
    "\n",
    "    def __repr__(self):\n",
    "        return self.content"
   ]
  },
  {
   "cell_type": "code",
   "execution_count": 26,
   "metadata": {},
   "outputs": [],
   "source": [
    "r1 = Reader('nested.py')"
   ]
  },
  {
   "cell_type": "code",
   "execution_count": 27,
   "metadata": {},
   "outputs": [
    {
     "name": "stdout",
     "output_type": "stream",
     "text": [
      "from turtle import *\n",
      "\n",
      "speed('fastest')\n",
      "pencolor('red')\n",
      "fillcolor('yellow')\n",
      "for i in range(6):\n",
      "    fd(100)\n",
      "    for i in range(6):\n",
      "        fd(50)\n",
      "        begin_fill()\n",
      "        for i in range(6):\n",
      "            fd(50)\n",
      "            rt(60)\n",
      "        end_fill()    \n",
      "        lt(60)    \n",
      "    rt(60)\n",
      "\n",
      "hideturtle()\n",
      "mainloop()    \n"
     ]
    }
   ],
   "source": [
    "print(r1.content)"
   ]
  },
  {
   "cell_type": "code",
   "execution_count": 28,
   "metadata": {},
   "outputs": [
    {
     "name": "stdout",
     "output_type": "stream",
     "text": [
      "29\n",
      "311\n"
     ]
    }
   ],
   "source": [
    "print(r1.count_words())\n",
    "print(r1.count_chars())"
   ]
  }
 ],
 "metadata": {
  "kernelspec": {
   "display_name": "base",
   "language": "python",
   "name": "python3"
  },
  "language_info": {
   "codemirror_mode": {
    "name": "ipython",
    "version": 3
   },
   "file_extension": ".py",
   "mimetype": "text/x-python",
   "name": "python",
   "nbconvert_exporter": "python",
   "pygments_lexer": "ipython3",
   "version": "3.10.8"
  },
  "orig_nbformat": 4
 },
 "nbformat": 4,
 "nbformat_minor": 2
}
