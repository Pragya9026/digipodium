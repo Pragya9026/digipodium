{
 "cells": [
  {
   "cell_type": "code",
   "execution_count": 1,
   "metadata": {},
   "outputs": [],
   "source": [
    "a = []   # empty list\n",
    "b = [1,2,3,4,5,67,2] # list of integers\n",
    "c = ['apple', 'banana', 'orange'] # list of strings\n",
    "d = [[1,2,3],[4,5,6],[7,8,9]] # list of lists (nested list)\n",
    "e = ['apple',20, False, 'mango', 50.5, True]"
   ]
  },
  {
   "cell_type": "code",
   "execution_count": 2,
   "metadata": {},
   "outputs": [
    {
     "name": "stdout",
     "output_type": "stream",
     "text": [
      "['t', 'h', 'e', ' ', 'l', 'o', 's', 't', ' ', 'm', 'e', 't', 'a', 'l']\n"
     ]
    }
   ],
   "source": [
    "word = 'the lost metal'\n",
    "chars = list(word)\n",
    "print(chars)"
   ]
  },
  {
   "cell_type": "code",
   "execution_count": 3,
   "metadata": {},
   "outputs": [
    {
     "name": "stdout",
     "output_type": "stream",
     "text": [
      "[1, 2, 3, 1, 2, 3, 1, 2, 3, 1, 2, 3, 1, 2, 3]\n"
     ]
    }
   ],
   "source": [
    "f = [1,2,3] * 5 # repeat list 5 times\n",
    "print(f)"
   ]
  },
  {
   "cell_type": "code",
   "execution_count": 4,
   "metadata": {},
   "outputs": [],
   "source": [
    "name = input(\"enter a name:\")\n",
    "a.append(name)"
   ]
  },
  {
   "cell_type": "code",
   "execution_count": 2,
   "metadata": {},
   "outputs": [
    {
     "data": {
      "text/plain": [
       "15"
      ]
     },
     "execution_count": 2,
     "metadata": {},
     "output_type": "execute_result"
    }
   ],
   "source": [
    "movies = ['Badla', 'Baazigar', 'Shershah','Race','Kabir Singh', 'Selfie', 'Harry Porter','Mission Majnu', 'Mirzapur', 'Swarg','Baghban','Pathaan','Lost','Thank God', 'broken Heart']\n",
    "len(movies)"
   ]
  },
  {
   "cell_type": "code",
   "execution_count": 3,
   "metadata": {},
   "outputs": [
    {
     "name": "stdout",
     "output_type": "stream",
     "text": [
      "Harry Porter\n",
      "broken Heart\n"
     ]
    }
   ],
   "source": [
    "print(movies[6])\n",
    "print(movies[-1])"
   ]
  },
  {
   "cell_type": "code",
   "execution_count": 4,
   "metadata": {},
   "outputs": [
    {
     "name": "stdout",
     "output_type": "stream",
     "text": [
      "['Badla', 'Baazigar', 'Shershah', 'Race', 'Bahubali', 'Selfie', 'Harry Porter', 'Mission Majnu', 'Mirzapur', 'Swarg', 'Baghban', 'Pathaan', 'Lost', 'Thank God', 'broken Heart']\n"
     ]
    }
   ],
   "source": [
    "movies[4] = 'Bahubali'\n",
    "print(movies)"
   ]
  },
  {
   "cell_type": "code",
   "execution_count": 5,
   "metadata": {},
   "outputs": [
    {
     "name": "stdout",
     "output_type": "stream",
     "text": [
      "['Badla', 'Baazigar', 'Shershah', 'Race', 'Bahubali']\n",
      "['Baghban', 'Pathaan', 'Lost', 'Thank God', 'broken Heart']\n",
      "['Race', 'Bahubali', 'Selfie', 'Harry Porter', 'Mission Majnu', 'Mirzapur', 'Swarg', 'Baghban', 'Pathaan']\n",
      "['broken Heart', 'Thank God', 'Lost', 'Pathaan', 'Baghban', 'Swarg', 'Mirzapur', 'Mission Majnu', 'Harry Porter', 'Selfie', 'Bahubali', 'Race', 'Shershah', 'Baazigar', 'Badla']\n",
      "['Badla', 'Shershah', 'Bahubali', 'Harry Porter', 'Mirzapur', 'Baghban', 'Lost', 'broken Heart']\n",
      "['Badla', 'Race', 'Harry Porter', 'Swarg', 'Lost']\n"
     ]
    }
   ],
   "source": [
    "# first 5 movies\n",
    "print(movies[:5])\n",
    "# last 5 movies\n",
    "print(movies[-5:])\n",
    "# all movies except first 3 and last 3\n",
    "print(movies[3:-3])\n",
    "# all movies but in reverse order\n",
    "print(movies[::-1])\n",
    "# only even indexed movies\n",
    "print(movies[::2])\n",
    "# every 3rd index movie\n",
    "print(movies[::3]) "
   ]
  },
  {
   "attachments": {},
   "cell_type": "markdown",
   "metadata": {},
   "source": [
    "## methods"
   ]
  },
  {
   "cell_type": "code",
   "execution_count": 6,
   "metadata": {},
   "outputs": [],
   "source": [
    "movies.append('The Matrix')"
   ]
  },
  {
   "cell_type": "code",
   "execution_count": 7,
   "metadata": {},
   "outputs": [
    {
     "name": "stdout",
     "output_type": "stream",
     "text": [
      "['Badla', 'Baazigar', 'Shershah', 'Race', 'Bahubali', 'Selfie', 'Harry Porter', 'Mission Majnu', 'Mirzapur', 'Swarg', 'Baghban', 'Pathaan', 'Lost', 'Thank God', 'broken Heart', 'The Matrix']\n"
     ]
    }
   ],
   "source": [
    "print(movies)"
   ]
  },
  {
   "cell_type": "code",
   "execution_count": 8,
   "metadata": {},
   "outputs": [],
   "source": [
    "for i in range(3):\n",
    "    name = input(\"enter a name:\")\n",
    "    movies.append(name)"
   ]
  },
  {
   "cell_type": "code",
   "execution_count": 9,
   "metadata": {},
   "outputs": [
    {
     "name": "stdout",
     "output_type": "stream",
     "text": [
      "['Badla', 'Baazigar', 'Shershah', 'Race', 'Bahubali', 'Selfie', 'Harry Porter', 'Mission Majnu', 'Mirzapur', 'Swarg', 'Baghban', 'Pathaan', 'Lost', 'Thank God', 'broken Heart', 'The Matrix', 'krish', 'stardust', 'jannat']\n"
     ]
    }
   ],
   "source": [
    "print(movies)"
   ]
  },
  {
   "cell_type": "code",
   "execution_count": 11,
   "metadata": {},
   "outputs": [
    {
     "data": {
      "text/plain": [
       "17"
      ]
     },
     "execution_count": 11,
     "metadata": {},
     "output_type": "execute_result"
    }
   ],
   "source": [
    "movies.index('stardust')"
   ]
  },
  {
   "cell_type": "code",
   "execution_count": 12,
   "metadata": {},
   "outputs": [
    {
     "name": "stdout",
     "output_type": "stream",
     "text": [
      "['Badla', 'Baazigar', 'Shershah', 'Race', 'Bahubali', 'Selfie', 'Harry Porter', 'Mission Majnu', 'Mirzapur', 'Swarg', 'Baghban', 'Pathaan', 'Lost', 'Thank God', 'broken Heart', 'The Matrix', 'krish', 'Krish 3', 'stardust', 'jannat']\n"
     ]
    }
   ],
   "source": [
    "movies.insert(17,'Krish 3')\n",
    "print(movies)"
   ]
  },
  {
   "cell_type": "code",
   "execution_count": 13,
   "metadata": {},
   "outputs": [
    {
     "name": "stdout",
     "output_type": "stream",
     "text": [
      "['Badla', 'Baazigar', 'Shershah', 'Race', 'Bahubali', 'Selfie', 'Harry Porter', 'Mission Majnu', 'Mirzapur', 'Swarg', 'Baghban', 'Pathaan', 'Lost', 'Thank God', 'broken Heart', 'Matrix: Reloaded', 'krish', 'Krish 3', 'stardust', 'jannat']\n"
     ]
    }
   ],
   "source": [
    "movies[-5]='Matrix: Reloaded'\n",
    "print(movies)\n"
   ]
  },
  {
   "cell_type": "code",
   "execution_count": 15,
   "metadata": {},
   "outputs": [],
   "source": [
    "movies.remove('krish')"
   ]
  },
  {
   "cell_type": "code",
   "execution_count": 16,
   "metadata": {},
   "outputs": [
    {
     "data": {
      "text/plain": [
       "'Race'"
      ]
     },
     "execution_count": 16,
     "metadata": {},
     "output_type": "execute_result"
    }
   ],
   "source": [
    "movies.pop(3) # remove movie at index 3"
   ]
  },
  {
   "cell_type": "code",
   "execution_count": 17,
   "metadata": {},
   "outputs": [
    {
     "name": "stdout",
     "output_type": "stream",
     "text": [
      "Harry Porter\n"
     ]
    }
   ],
   "source": [
    "movie_removed = movies.pop(5)\n",
    "print(movie_removed)"
   ]
  },
  {
   "cell_type": "code",
   "execution_count": 18,
   "metadata": {},
   "outputs": [],
   "source": [
    "x = [1,2,3]\n",
    "y = [4,5,6]"
   ]
  },
  {
   "cell_type": "code",
   "execution_count": 19,
   "metadata": {},
   "outputs": [
    {
     "data": {
      "text/plain": [
       "[1, 2, 3, 4, 5, 6]"
      ]
     },
     "execution_count": 19,
     "metadata": {},
     "output_type": "execute_result"
    }
   ],
   "source": [
    "x + y"
   ]
  },
  {
   "cell_type": "code",
   "execution_count": 22,
   "metadata": {},
   "outputs": [
    {
     "name": "stdout",
     "output_type": "stream",
     "text": [
      "[1, 2, 3, 4, 5, 6]\n"
     ]
    }
   ],
   "source": [
    "x.extend(y)\n",
    "print(x)"
   ]
  },
  {
   "cell_type": "code",
   "execution_count": 20,
   "metadata": {},
   "outputs": [
    {
     "name": "stdout",
     "output_type": "stream",
     "text": [
      "['jannat', 'stardust', 'Krish 3', 'Matrix: Reloaded', 'broken Heart', 'Thank God', 'Lost', 'Pathaan', 'Baghban', 'Swarg', 'Mirzapur', 'Mission Majnu', 'Selfie', 'Bahubali', 'Shershah', 'Baazigar', 'Badla']\n"
     ]
    }
   ],
   "source": [
    "movies.reverse()\n",
    "print(movies)"
   ]
  },
  {
   "cell_type": "code",
   "execution_count": 21,
   "metadata": {},
   "outputs": [
    {
     "name": "stdout",
     "output_type": "stream",
     "text": [
      "['Baazigar', 'Badla', 'Baghban', 'Bahubali', 'Krish 3', 'Lost', 'Matrix: Reloaded', 'Mirzapur', 'Mission Majnu', 'Pathaan', 'Selfie', 'Shershah', 'Swarg', 'Thank God', 'broken Heart', 'jannat', 'stardust']\n"
     ]
    }
   ],
   "source": [
    "movies.sort()\n",
    "print(movies)"
   ]
  },
  {
   "cell_type": "code",
   "execution_count": 22,
   "metadata": {},
   "outputs": [
    {
     "name": "stdout",
     "output_type": "stream",
     "text": [
      "['stardust', 'jannat', 'broken Heart', 'Thank God', 'Swarg', 'Shershah', 'Selfie', 'Pathaan', 'Mission Majnu', 'Mirzapur', 'Matrix: Reloaded', 'Lost', 'Krish 3', 'Bahubali', 'Baghban', 'Badla', 'Baazigar']\n"
     ]
    }
   ],
   "source": [
    "movies.sort(reverse=True)\n",
    "print(movies)"
   ]
  },
  {
   "cell_type": "code",
   "execution_count": 24,
   "metadata": {},
   "outputs": [
    {
     "data": {
      "text/plain": [
       "1"
      ]
     },
     "execution_count": 24,
     "metadata": {},
     "output_type": "execute_result"
    }
   ],
   "source": [
    "movies.count('jannat')"
   ]
  },
  {
   "cell_type": "code",
   "execution_count": 27,
   "metadata": {},
   "outputs": [
    {
     "name": "stdout",
     "output_type": "stream",
     "text": [
      "4\n",
      "4\n",
      "1\n"
     ]
    }
   ],
   "source": [
    "x = [1,2,1,2,1,2,1,2,3]\n",
    "print(x.count(1))\n",
    "print(x.count(2))\n",
    "print(x.count(3))"
   ]
  },
  {
   "cell_type": "code",
   "execution_count": 28,
   "metadata": {},
   "outputs": [
    {
     "name": "stdout",
     "output_type": "stream",
     "text": [
      "[1, 2, 1, 2, 1, 2, 1, 2, 3]\n"
     ]
    }
   ],
   "source": [
    "z = x.copy()\n",
    "print(z)"
   ]
  },
  {
   "cell_type": "code",
   "execution_count": 25,
   "metadata": {},
   "outputs": [],
   "source": [
    "a = 10\n",
    "b = a # this is ok\n",
    "x = [2,31,3,123,123,1,3] # list is data structure\n",
    "y = x.copy() # this is ok"
   ]
  }
 ],
 "metadata": {
  "kernelspec": {
   "display_name": "base",
   "language": "python",
   "name": "python3"
  },
  "language_info": {
   "codemirror_mode": {
    "name": "ipython",
    "version": 3
   },
   "file_extension": ".py",
   "mimetype": "text/x-python",
   "name": "python",
   "nbconvert_exporter": "python",
   "pygments_lexer": "ipython3",
   "version": "3.10.8"
  },
  "orig_nbformat": 4,
  "vscode": {
   "interpreter": {
    "hash": "29f034c8d701d9a7457d6467c6d3d60cfdf32c62b2b99b789beba229e04a26a3"
   }
  }
 },
 "nbformat": 4,
 "nbformat_minor": 2
}
