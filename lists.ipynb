{
 "cells": [
  {
   "cell_type": "code",
   "execution_count": 1,
   "metadata": {},
   "outputs": [],
   "source": [
    "a = []   # empty list\n",
    "b = [1,2,3,4,5,67,2] # list of integers\n",
    "c = ['apple', 'banana', 'orange'] # list of strings\n",
    "d = [[1,2,3],[4,5,6],[7,8,9]] # list of lists (nested list)\n",
    "e = ['apple',20, False, 'mango', 50.5, True]"
   ]
  },
  {
   "cell_type": "code",
   "execution_count": 2,
   "metadata": {},
   "outputs": [
    {
     "name": "stdout",
     "output_type": "stream",
     "text": [
      "['t', 'h', 'e', ' ', 'l', 'o', 's', 't', ' ', 'm', 'e', 't', 'a', 'l']\n"
     ]
    }
   ],
   "source": [
    "word = 'the lost metal'\n",
    "chars = list(word)\n",
    "print(chars)"
   ]
  },
  {
   "cell_type": "code",
   "execution_count": 3,
   "metadata": {},
   "outputs": [
    {
     "name": "stdout",
     "output_type": "stream",
     "text": [
      "[1, 2, 3, 1, 2, 3, 1, 2, 3, 1, 2, 3, 1, 2, 3]\n"
     ]
    }
   ],
   "source": [
    "f = [1,2,3] * 5 # repeat list 5 times\n",
    "print(f)"
   ]
  },
  {
   "cell_type": "code",
   "execution_count": 4,
   "metadata": {},
   "outputs": [],
   "source": [
    "name = input(\"enter a name:\")\n",
    "a.append(name)"
   ]
  },
  {
   "cell_type": "code",
   "execution_count": 1,
   "metadata": {},
   "outputs": [],
   "source": [
    "a = ['shehzada', 'shershah','3 idiots', 'kabir singh', 'maine pyar kiya', 'selfie', 'harry porter' 'mirzapur']"
   ]
  },
  {
   "cell_type": "code",
   "execution_count": 12,
   "metadata": {},
   "outputs": [],
   "source": [
    "a.append('krish')"
   ]
  },
  {
   "cell_type": "code",
   "execution_count": 13,
   "metadata": {},
   "outputs": [
    {
     "name": "stdout",
     "output_type": "stream",
     "text": [
      "['shehzada', 'shershah', '3 idiots', 'kabir singh', 'maine pyar kiya', 'selfie', 'harry portermirzapur', 'shehzada', 'pragya', 'shehzada', 'Kabir Singh', 'Krish 3', 'krish']\n"
     ]
    }
   ],
   "source": [
    "print(a)"
   ]
  },
  {
   "cell_type": "code",
   "execution_count": 14,
   "metadata": {},
   "outputs": [],
   "source": [
    "for i in range(3):\n",
    "    name = input(\"enter a name:\")\n",
    "    a.append(name)"
   ]
  },
  {
   "cell_type": "code",
   "execution_count": 15,
   "metadata": {},
   "outputs": [
    {
     "name": "stdout",
     "output_type": "stream",
     "text": [
      "['shehzada', 'shershah', '3 idiots', 'kabir singh', 'maine pyar kiya', 'selfie', 'harry portermirzapur', 'shehzada', 'pragya', 'shehzada', 'Kabir Singh', 'Krish 3', 'krish', 'krish 2', 'kridh', 'Kabir Singh']\n"
     ]
    }
   ],
   "source": [
    "print(a)"
   ]
  },
  {
   "cell_type": "code",
   "execution_count": 9,
   "metadata": {},
   "outputs": [
    {
     "data": {
      "text/plain": [
       "5"
      ]
     },
     "execution_count": 9,
     "metadata": {},
     "output_type": "execute_result"
    }
   ],
   "source": [
    "a.index('selfie')"
   ]
  },
  {
   "cell_type": "code",
   "execution_count": 10,
   "metadata": {},
   "outputs": [
    {
     "name": "stdout",
     "output_type": "stream",
     "text": [
      "['shehzada', 'shershah', '3 idiots', 'kabir singh', 'maine pyar kiya', 'selfie', 'harry portermirzapur', 'shehzada', 'pragya', 'shehzada', 'Kabir Singh', 'Krish 3']\n"
     ]
    }
   ],
   "source": [
    "a.insert(17,'Krish 3')\n",
    "print(a)"
   ]
  },
  {
   "cell_type": "code",
   "execution_count": 16,
   "metadata": {},
   "outputs": [
    {
     "name": "stdout",
     "output_type": "stream",
     "text": [
      "['shehzada', 'shershah', '3 idiots', 'kabir singh', 'maine pyar kiya', 'selfie', 'harry portermirzapur', 'shehzada', 'pragya', 'shehzada', 'Kabir Singh', 'Krish: Reloaded', 'krish', 'krish 2', 'kridh', 'Kabir Singh']\n"
     ]
    }
   ],
   "source": [
    "a[-5]='Krish: Reloaded'\n",
    "print(a)\n"
   ]
  },
  {
   "cell_type": "code",
   "execution_count": 17,
   "metadata": {},
   "outputs": [],
   "source": [
    "a.remove('shehzada')"
   ]
  },
  {
   "cell_type": "code",
   "execution_count": 18,
   "metadata": {},
   "outputs": [
    {
     "data": {
      "text/plain": [
       "'maine pyar kiya'"
      ]
     },
     "execution_count": 18,
     "metadata": {},
     "output_type": "execute_result"
    }
   ],
   "source": [
    "a.pop(3) # remove a at index 3"
   ]
  },
  {
   "cell_type": "code",
   "execution_count": 19,
   "metadata": {},
   "outputs": [
    {
     "name": "stdout",
     "output_type": "stream",
     "text": [
      "shehzada\n"
     ]
    }
   ],
   "source": [
    "a_removed = a.pop(5)\n",
    "print(a_removed)"
   ]
  },
  {
   "cell_type": "code",
   "execution_count": 20,
   "metadata": {},
   "outputs": [],
   "source": [
    "x = [1,2,3]\n",
    "y = [4,5,6]"
   ]
  },
  {
   "cell_type": "code",
   "execution_count": 21,
   "metadata": {},
   "outputs": [
    {
     "data": {
      "text/plain": [
       "[1, 2, 3, 4, 5, 6]"
      ]
     },
     "execution_count": 21,
     "metadata": {},
     "output_type": "execute_result"
    }
   ],
   "source": [
    "x + y"
   ]
  },
  {
   "cell_type": "code",
   "execution_count": 22,
   "metadata": {},
   "outputs": [
    {
     "name": "stdout",
     "output_type": "stream",
     "text": [
      "[1, 2, 3, 4, 5, 6]\n"
     ]
    }
   ],
   "source": [
    "x.extend(y)\n",
    "print(x)"
   ]
  },
  {
   "cell_type": "code",
   "execution_count": 23,
   "metadata": {},
   "outputs": [
    {
     "name": "stdout",
     "output_type": "stream",
     "text": [
      "['Kabir Singh', 'kridh', 'krish 2', 'krish', 'Krish: Reloaded', 'Kabir Singh', 'shehzada', 'pragya', 'harry portermirzapur', 'selfie', 'kabir singh', '3 idiots', 'shershah']\n"
     ]
    }
   ],
   "source": [
    "a.reverse()\n",
    "print(a)"
   ]
  },
  {
   "cell_type": "code",
   "execution_count": 24,
   "metadata": {},
   "outputs": [
    {
     "name": "stdout",
     "output_type": "stream",
     "text": [
      "['3 idiots', 'Kabir Singh', 'Kabir Singh', 'Krish: Reloaded', 'harry portermirzapur', 'kabir singh', 'kridh', 'krish', 'krish 2', 'pragya', 'selfie', 'shehzada', 'shershah']\n"
     ]
    }
   ],
   "source": [
    "a.sort()\n",
    "print(a)"
   ]
  },
  {
   "cell_type": "code",
   "execution_count": 25,
   "metadata": {},
   "outputs": [
    {
     "name": "stdout",
     "output_type": "stream",
     "text": [
      "['shershah', 'shehzada', 'selfie', 'pragya', 'krish 2', 'krish', 'kridh', 'kabir singh', 'harry portermirzapur', 'Krish: Reloaded', 'Kabir Singh', 'Kabir Singh', '3 idiots']\n"
     ]
    }
   ],
   "source": [
    "a.sort(reverse=True)\n",
    "print(a)"
   ]
  },
  {
   "cell_type": "code",
   "execution_count": 26,
   "metadata": {},
   "outputs": [
    {
     "data": {
      "text/plain": [
       "1"
      ]
     },
     "execution_count": 26,
     "metadata": {},
     "output_type": "execute_result"
    }
   ],
   "source": [
    "a.count('shehzada')"
   ]
  },
  {
   "cell_type": "code",
   "execution_count": 27,
   "metadata": {},
   "outputs": [
    {
     "name": "stdout",
     "output_type": "stream",
     "text": [
      "4\n",
      "4\n",
      "1\n"
     ]
    }
   ],
   "source": [
    "x = [1,2,1,2,1,2,1,2,3]\n",
    "print(x.count(1))\n",
    "print(x.count(2))\n",
    "print(x.count(3))"
   ]
  },
  {
   "cell_type": "code",
   "execution_count": 28,
   "metadata": {},
   "outputs": [
    {
     "name": "stdout",
     "output_type": "stream",
     "text": [
      "[1, 2, 1, 2, 1, 2, 1, 2, 3]\n"
     ]
    }
   ],
   "source": [
    "z = x.copy()\n",
    "print(z)"
   ]
  },
  {
   "cell_type": "code",
   "execution_count": 29,
   "metadata": {},
   "outputs": [],
   "source": [
    "a = 10\n",
    "b = a # this is ok\n",
    "x = [2,31,3,123,123,1,3] # list is data structure\n",
    "y = x.copy() # this is ok"
   ]
  },
  {
   "cell_type": "code",
   "execution_count": null,
   "metadata": {},
   "outputs": [],
   "source": []
  }
 ],
 "metadata": {
  "kernelspec": {
   "display_name": "base",
   "language": "python",
   "name": "python3"
  },
  "language_info": {
   "codemirror_mode": {
    "name": "ipython",
    "version": 3
   },
   "file_extension": ".py",
   "mimetype": "text/x-python",
   "name": "python",
   "nbconvert_exporter": "python",
   "pygments_lexer": "ipython3",
   "version": "3.10.8"
  },
  "orig_nbformat": 4,
  "vscode": {
   "interpreter": {
    "hash": "29f034c8d701d9a7457d6467c6d3d60cfdf32c62b2b99b789beba229e04a26a3"
   }
  }
 },
 "nbformat": 4,
 "nbformat_minor": 2
}
