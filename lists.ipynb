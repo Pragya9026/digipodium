{
 "cells": [
  {
   "cell_type": "code",
   "execution_count": 1,
   "metadata": {},
   "outputs": [],
   "source": [
    "a = []   # empty list\n",
    "b = [1,2,3,4,5,67,2] # list of integers\n",
    "c = ['apple', 'banana', 'orange'] # list of strings\n",
    "d = [[1,2,3],[4,5,6],[7,8,9]] # list of lists (nested list)\n",
    "e = ['apple',20, False, 'mango', 50.5, True]"
   ]
  },
  {
   "cell_type": "code",
   "execution_count": 2,
   "metadata": {},
   "outputs": [
    {
     "name": "stdout",
     "output_type": "stream",
     "text": [
      "['t', 'h', 'e', ' ', 'l', 'o', 's', 't', ' ', 'm', 'e', 't', 'a', 'l']\n"
     ]
    }
   ],
   "source": [
    "word = 'the lost metal'\n",
    "chars = list(word)\n",
    "print(chars)"
   ]
  },
  {
   "cell_type": "code",
   "execution_count": 3,
   "metadata": {},
   "outputs": [
    {
     "name": "stdout",
     "output_type": "stream",
     "text": [
      "[1, 2, 3, 1, 2, 3, 1, 2, 3, 1, 2, 3, 1, 2, 3]\n"
     ]
    }
   ],
   "source": [
    "f = [1,2,3] * 5 # repeat list 5 times\n",
    "print(f)"
   ]
  },
  {
   "cell_type": "code",
   "execution_count": 4,
   "metadata": {},
   "outputs": [],
   "source": [
    "name = input(\"enter a name:\")\n",
    "a.append(name)"
   ]
  },
  {
   "cell_type": "code",
   "execution_count": null,
   "metadata": {},
   "outputs": [],
   "source": [
    "a = ['shehzada', 'shershah','3 idiots', 'kabir singh', 'maine pyar kiya', 'selfie', 'harry porter'', 'titanic' , 'badlapur ','Brahmastra','mission majnu', 'mirzapur'','swarg','baghban','RRR']"
   ]
  }
 ],
 "metadata": {
  "kernelspec": {
   "display_name": "base",
   "language": "python",
   "name": "python3"
  },
  "language_info": {
   "codemirror_mode": {
    "name": "ipython",
    "version": 3
   },
   "file_extension": ".py",
   "mimetype": "text/x-python",
   "name": "python",
   "nbconvert_exporter": "python",
   "pygments_lexer": "ipython3",
   "version": "3.10.8"
  },
  "orig_nbformat": 4,
  "vscode": {
   "interpreter": {
    "hash": "29f034c8d701d9a7457d6467c6d3d60cfdf32c62b2b99b789beba229e04a26a3"
   }
  }
 },
 "nbformat": 4,
 "nbformat_minor": 2
}
