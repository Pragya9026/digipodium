{
 "cells": [
  {
   "cell_type": "code",
   "execution_count": 1,
   "metadata": {},
   "outputs": [
    {
     "name": "stdout",
     "output_type": "stream",
     "text": [
      "a =  digipodium\n"
     ]
    }
   ],
   "source": [
    "#Accessing string characters in Python\n",
    "a = 'digipodium'\n",
    "print('a = ',a)"
   ]
  },
  {
   "cell_type": "code",
   "execution_count": 2,
   "metadata": {},
   "outputs": [
    {
     "name": "stdout",
     "output_type": "stream",
     "text": [
      "a[0] =  d\n"
     ]
    }
   ],
   "source": [
    "#first character \n",
    "print('a[0] = ',a[0])"
   ]
  },
  {
   "cell_type": "code",
   "execution_count": 3,
   "metadata": {},
   "outputs": [
    {
     "name": "stdout",
     "output_type": "stream",
     "text": [
      "a[1] =  i\n"
     ]
    }
   ],
   "source": [
    "#second character\n",
    "print('a[1] = ',a[1])"
   ]
  },
  {
   "cell_type": "code",
   "execution_count": 4,
   "metadata": {},
   "outputs": [
    {
     "name": "stdout",
     "output_type": "stream",
     "text": [
      "a[-1] =  m\n"
     ]
    }
   ],
   "source": [
    "#third character\n",
    "print('a[-1] = ',a[-1])"
   ]
  },
  {
   "attachments": {},
   "cell_type": "markdown",
   "metadata": {},
   "source": [
    "slicing"
   ]
  },
  {
   "cell_type": "code",
   "execution_count": 5,
   "metadata": {},
   "outputs": [
    {
     "data": {
      "text/plain": [
       "26"
      ]
     },
     "execution_count": 5,
     "metadata": {},
     "output_type": "execute_result"
    }
   ],
   "source": [
    "alphabets=\"abcdefghijklmnopqrstuvwxyz\"\n",
    "len(alphabets)"
   ]
  },
  {
   "cell_type": "code",
   "execution_count": 6,
   "metadata": {},
   "outputs": [
    {
     "data": {
      "text/plain": [
       "'ghijklmnopqrst'"
      ]
     },
     "execution_count": 6,
     "metadata": {},
     "output_type": "execute_result"
    }
   ],
   "source": [
    "alphabets[6:-6]"
   ]
  },
  {
   "cell_type": "code",
   "execution_count": 7,
   "metadata": {},
   "outputs": [
    {
     "name": "stdout",
     "output_type": "stream",
     "text": [
      "abcde vwxyz pqrst\n"
     ]
    }
   ],
   "source": [
    "first_five = alphabets[:5] # first five characters\n",
    "last_five = alphabets[-5:] # last five characters\n",
    "x = 15\n",
    "high_five = alphabets[x:x+5] # 5 characters starting at index 10\n",
    "print(first_five, last_five, high_five)\n"
   ]
  },
  {
   "cell_type": "code",
   "execution_count": 8,
   "metadata": {},
   "outputs": [
    {
     "name": "stdout",
     "output_type": "stream",
     "text": [
      "acegikmoqsuwy\n"
     ]
    }
   ],
   "source": [
    "every_even_index = alphabets[::2] # every other character\n",
    "print(every_even_index)"
   ]
  },
  {
   "cell_type": "code",
   "execution_count": 9,
   "metadata": {},
   "outputs": [
    {
     "name": "stdout",
     "output_type": "stream",
     "text": [
      "bdfhjlnprtvxz\n"
     ]
    }
   ],
   "source": [
    "every_odd_index = alphabets[1::2] # every other character, starting at index 1\n",
    "print(every_odd_index)"
   ]
  },
  {
   "cell_type": "code",
   "execution_count": 10,
   "metadata": {},
   "outputs": [
    {
     "name": "stdout",
     "output_type": "stream",
     "text": [
      "Pay ut\n",
      "rgaGpa\n",
      "atpuG aygarP\n"
     ]
    }
   ],
   "source": [
    "name = 'Pragya Gupta'\n",
    "name_even= name[::2]\n",
    "name_odd = name[1::2]\n",
    "rev_name = name[::-1] # reverse the string using negative step\n",
    "print(name_even, name_odd, rev_name, sep='\\n')"
   ]
  },
  {
   "cell_type": "code",
   "execution_count": 12,
   "metadata": {},
   "outputs": [
    {
     "name": "stdout",
     "output_type": "stream",
     "text": [
      "65\n",
      "66\n",
      "67\n",
      "129392\n",
      "10060\n"
     ]
    }
   ],
   "source": [
    "print(ord('A'))\n",
    "print(ord('B'))\n",
    "print(ord('C'))\n",
    "print(ord('🥰'))\n",
    "print(ord('❌'))"
   ]
  },
  {
   "cell_type": "code",
   "execution_count": 13,
   "metadata": {},
   "outputs": [
    {
     "name": "stdout",
     "output_type": "stream",
     "text": [
      "\u0000\n",
      "\u0001\n",
      "😄\n"
     ]
    }
   ],
   "source": [
    "print(chr(0))\n",
    "print(chr(1))\n",
    "print(chr(128516))"
   ]
  },
  {
   "cell_type": "code",
   "execution_count": 14,
   "metadata": {},
   "outputs": [
    {
     "name": "stdout",
     "output_type": "stream",
     "text": [
      "HiHiHi\n"
     ]
    }
   ],
   "source": [
    "word = 'Hi'\n",
    "print(word * 3)"
   ]
  },
  {
   "cell_type": "code",
   "execution_count": 15,
   "metadata": {},
   "outputs": [
    {
     "name": "stdout",
     "output_type": "stream",
     "text": [
      "-------------------------\n"
     ]
    }
   ],
   "source": [
    "print('-' * 25)"
   ]
  },
  {
   "cell_type": "code",
   "execution_count": 17,
   "metadata": {},
   "outputs": [
    {
     "name": "stdout",
     "output_type": "stream",
     "text": [
      "\n",
      " * \n",
      " *  * \n",
      " *  *  * \n",
      " *  *  *  * \n",
      " *  *  *  *  * \n",
      " *  *  *  *  *  * \n",
      " *  *  *  *  *  *  * \n",
      " *  *  *  *  *  *  *  * \n",
      " *  *  *  *  *  *  *  *  * \n"
     ]
    }
   ],
   "source": [
    "for i in range (10):\n",
    "    print( i * ' * ' )"
   ]
  },
  {
   "cell_type": "code",
   "execution_count": 19,
   "metadata": {},
   "outputs": [
    {
     "name": "stdout",
     "output_type": "stream",
     "text": [
      "              *               \n",
      "           *  *  *            \n",
      "        *  *  *  *  *         \n",
      "     *  *  *  *  *  *  *      \n",
      "  *  *  *  *  *  *  *  *  *   \n",
      " *  *  *  *  *  *  *  *  *  *  * \n",
      " *  *  *  *  *  *  *  *  *  *  *  *  * \n"
     ]
    }
   ],
   "source": [
    "for i in range(1,15,2):\n",
    "    print( (i * ' * ').center(30))"
   ]
  },
  {
   "cell_type": "code",
   "execution_count": null,
   "metadata": {},
   "outputs": [],
   "source": []
  }
 ],
 "metadata": {
  "kernelspec": {
   "display_name": "base",
   "language": "python",
   "name": "python3"
  },
  "language_info": {
   "codemirror_mode": {
    "name": "ipython",
    "version": 3
   },
   "file_extension": ".py",
   "mimetype": "text/x-python",
   "name": "python",
   "nbconvert_exporter": "python",
   "pygments_lexer": "ipython3",
   "version": "3.10.8"
  },
  "orig_nbformat": 4,
  "vscode": {
   "interpreter": {
    "hash": "29f034c8d701d9a7457d6467c6d3d60cfdf32c62b2b99b789beba229e04a26a3"
   }
  }
 },
 "nbformat": 4,
 "nbformat_minor": 2
}
