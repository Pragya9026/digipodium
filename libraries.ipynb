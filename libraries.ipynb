{
 "cells": [
  {
   "attachments": {},
   "cell_type": "markdown",
   "metadata": {},
   "source": [
    "# libraries or modules"
   ]
  },
  {
   "attachments": {},
   "cell_type": "markdown",
   "metadata": {},
   "source": [
    "- import lib_name\n",
    "- import lib_name as alias\n",
    "- import random as rd\n",
    "- from lib_name import fun1, fun2,...\n",
    "- from random import randint,choice\n",
    "- from lib_name import *\n",
    "- from random import *"
   ]
  },
  {
   "cell_type": "code",
   "execution_count": 1,
   "metadata": {},
   "outputs": [],
   "source": [
    "import math"
   ]
  },
  {
   "cell_type": "code",
   "execution_count": 2,
   "metadata": {},
   "outputs": [
    {
     "name": "stdout",
     "output_type": "stream",
     "text": [
      "3.605551275463989\n",
      "1307674368000\n",
      "2.0\n",
      "3.141592653589793\n",
      "2.718281828459045\n",
      "6\n",
      "72\n"
     ]
    }
   ],
   "source": [
    "print(math.sqrt(13))\n",
    "print(math.factorial(15))\n",
    "print(math.log(100,10))\n",
    "print(math.pi)\n",
    "print(math.e)\n",
    "print(math.gcd(12, 18, 24))\n",
    "print(math.lcm(12, 18, 24))"
   ]
  },
  {
   "cell_type": "code",
   "execution_count": 3,
   "metadata": {},
   "outputs": [],
   "source": [
    "from random import random, randint, choice, shuffle"
   ]
  },
  {
   "cell_type": "code",
   "execution_count": 4,
   "metadata": {},
   "outputs": [
    {
     "name": "stdout",
     "output_type": "stream",
     "text": [
      "get a random value between 0 and 1 : 0.6508368753363397\n",
      "get a random integer between 50 and 100: 72\n",
      "select a random item Jack\n",
      "shuffle a list ['Jamie', 'John', 'Jack', 'Jill', 'Jane']\n"
     ]
    }
   ],
   "source": [
    "print('get a random value between 0 and 1 :', random())\n",
    "print('get a random integer between 50 and 100:', randint(50,100))\n",
    "print('select a random item', choice(['John', 'Jane', 'Jack', 'Jill', 'Jamie']))\n",
    "names = ['John', 'Jane',  'Jack', 'Jill', 'Jamie']\n",
    "shuffle(names)\n",
    "print('shuffle a list', names)"
   ]
  },
  {
   "cell_type": "code",
   "execution_count": 5,
   "metadata": {},
   "outputs": [],
   "source": [
    "from datetime import datetime as dt"
   ]
  },
  {
   "cell_type": "code",
   "execution_count": 6,
   "metadata": {},
   "outputs": [
    {
     "name": "stdout",
     "output_type": "stream",
     "text": [
      "current time 2023-03-28 19:44:56.903272\n",
      "current date 2023-03-28\n",
      "current time 19:44:56.903272\n",
      "timestamp 1680012896.903272\n",
      "year 2023\n",
      "month 3\n",
      "day 28\n"
     ]
    }
   ],
   "source": [
    "print('current time', dt.now())\n",
    "print('current date', dt.now().date())\n",
    "print('current time', dt.now().time())\n",
    "print('timestamp', dt.now().timestamp())\n",
    "print('year', dt.now().year)\n",
    "print('month', dt.now().month)\n",
    "print('day',dt.now().day)\n"
   ]
  },
  {
   "cell_type": "code",
   "execution_count": 7,
   "metadata": {},
   "outputs": [
    {
     "name": "stdout",
     "output_type": "stream",
     "text": [
      "formatted date 28/03/2023\n"
     ]
    }
   ],
   "source": [
    "date = dt.strftime(dt.now(), '%d/%m/%Y')\n",
    "print('formatted date', date)"
   ]
  },
  {
   "cell_type": "code",
   "execution_count": 8,
   "metadata": {},
   "outputs": [],
   "source": [
    "import os"
   ]
  },
  {
   "cell_type": "code",
   "execution_count": 9,
   "metadata": {},
   "outputs": [
    {
     "name": "stdout",
     "output_type": "stream",
     "text": [
      "current folder c:\\Users\\pragy\\Documents\\digipodium\n"
     ]
    }
   ],
   "source": [
    "print('current folder',os.getcwd()) #get current working directory"
   ]
  },
  {
   "cell_type": "code",
   "execution_count": 10,
   "metadata": {},
   "outputs": [
    {
     "name": "stdout",
     "output_type": "stream",
     "text": [
      "['.git', 'conditions.ipynb', 'creating_classes.ipynb', 'dictionary.ipynb', 'func.ipynb', 'func2.ipynb', 'game1.py', 'hello.py', 'level1.ipynb', 'libraries.ipynb', 'lists.ipynb', 'lists1.ipynb', 'loops.ipynb', 'nested.py', 'scraping_1.ipynb', 'strings.ipynb', 't1.py', 't2.py', 't3.py', 'tuples.ipynb']\n"
     ]
    }
   ],
   "source": [
    "files = os.listdir() # get all files in the current folder\n",
    "print(files)"
   ]
  },
  {
   "cell_type": "code",
   "execution_count": 12,
   "metadata": {},
   "outputs": [
    {
     "name": "stdout",
     "output_type": "stream",
     "text": [
      "['Custom Office Templates', 'deepa.docx', 'Default.rdp', 'desktop.ini', 'digipodium', 'Doc1.docx', 'Doc2.docx', 'Doc2.pdf', 'My Music', 'My Pictures', 'My Videos', 'Presentation1.pptx', 'Sanjana Didi.pdf']\n",
      "13\n"
     ]
    }
   ],
   "source": [
    "files = os.listdir(r'C:\\Users\\pragy\\Documents')\n",
    "print(files)\n",
    "print(len(files))"
   ]
  },
  {
   "cell_type": "code",
   "execution_count": null,
   "metadata": {},
   "outputs": [],
   "source": [
    "total_files = 0\n",
    "for path, folders, files in os.walk('C:\\Users\\pragy\\Videos'):\n",
    "    print('=>', path)\n",
    "    print('', folders)\n",
    "    print('', files)\n",
    "    print('-'*15)\n",
    "    total_files += len(files)\n",
    "print('total files', total_files)    "
   ]
  },
  {
   "cell_type": "code",
   "execution_count": null,
   "metadata": {},
   "outputs": [],
   "source": []
  }
 ],
 "metadata": {
  "kernelspec": {
   "display_name": "base",
   "language": "python",
   "name": "python3"
  },
  "language_info": {
   "codemirror_mode": {
    "name": "ipython",
    "version": 3
   },
   "file_extension": ".py",
   "mimetype": "text/x-python",
   "name": "python",
   "nbconvert_exporter": "python",
   "pygments_lexer": "ipython3",
   "version": "3.10.8"
  },
  "orig_nbformat": 4
 },
 "nbformat": 4,
 "nbformat_minor": 2
}
