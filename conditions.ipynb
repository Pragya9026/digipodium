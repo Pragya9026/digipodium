{
 "cells": [
  {
   "attachments": {},
   "cell_type": "markdown",
   "metadata": {},
   "source": [
    "## CONDITIONS\n",
    "\n",
    "-if -if else -nested if -if elif else -match"
   ]
  },
  {
   "cell_type": "code",
   "execution_count": null,
   "metadata": {},
   "outputs": [],
   "source": [
    "count=int(input(\"enter a value\"))\n",
    "if count>5:\n",
    "      print(\"You are going to run this part\")\n",
    "if count>15:\n",
    "      print(\"You are going to see this part also\")\n",
    "if count%2==0:\n",
    "      print(\"count is even\")               "
   ]
  },
  {
   "attachments": {},
   "cell_type": "markdown",
   "metadata": {},
   "source": [
    " multiple conditions in an if statement"
   ]
  },
  {
   "cell_type": "code",
   "execution_count": null,
   "metadata": {},
   "outputs": [],
   "source": [
    "a=10\n",
    "b=5\n",
    "c=3\n",
    "if a>b and a>c:\n",
    "     print(f'{a=} is greater')\n",
    "if b>c and b>a:  \n",
    "     print(f'{b=} is greater')\n",
    "if c>a and c>b:\n",
    "     print(f'{c=} is greater')        "
   ]
  },
  {
   "cell_type": "code",
   "execution_count": null,
   "metadata": {},
   "outputs": [],
   "source": [
    "a=1\n",
    "b=5\n",
    "c=3\n",
    "if a>b and a>c:\n",
    "     print(f'{a=} is greater')\n",
    "if b>c and b>a:  \n",
    "     print(f'{b=} is greater')\n",
    "if c>a and c>b:\n",
    "     print(f'{c=} is greater') "
   ]
  },
  {
   "cell_type": "code",
   "execution_count": null,
   "metadata": {},
   "outputs": [],
   "source": [
    "a=int(input('enter first number'))\n",
    "b=int(input('enter second number'))\n",
    "if a>=b:\n",
    "     print('I am a genius')\n",
    "else:\n",
    "     print('You are a fool')     "
   ]
  },
  {
   "cell_type": "code",
   "execution_count": null,
   "metadata": {},
   "outputs": [],
   "source": [
    "lst=['chrome','assistant','blinkit','calendar','gallery','google']\n",
    "len(lst)"
   ]
  },
  {
   "cell_type": "code",
   "execution_count": null,
   "metadata": {},
   "outputs": [],
   "source": [
    "username=input('Enter your name:')\n",
    "email=input('Enter your email:')\n",
    "pwd=input('Enter your password:')\n",
    "pwd2=input('Confirm your password:')\n",
    "\n",
    "if len(username)>=4 and len(username)<=15:\n",
    "    if'@' in email and email.islower() and len(email)>10:\n",
    "         if len(pwd)>=6 and pwd!=username:\n",
    "              if pwd==pwd2:\n",
    "                 print(\"Hurray 🤡\")\n",
    "         else:\n",
    "                print(\"passwords do not match 😐\")\n",
    "    else:\n",
    "             print(\"password is invalid 🤦‍♀️\")     \n",
    "else:\n",
    "      print(\"username is invalid 🤷‍♀️\")    "
   ]
  },
  {
   "attachments": {},
   "cell_type": "markdown",
   "metadata": {},
   "source": [
    "# if-elif"
   ]
  },
  {
   "cell_type": "code",
   "execution_count": null,
   "metadata": {},
   "outputs": [],
   "source": [
    "name=input('Enter your name:')\n",
    "max_marks=int(input('Enter the marks:'))\n",
    "if max_marks>90:\n",
    "    print(\"You are outstanding\")\n",
    "elif max_marks>75:\n",
    "    print(\"You are intelligent\")\n",
    "elif max_marks>60:\n",
    "    print(\"You are a good performer\")\n",
    "else:\n",
    "    print(\"Poor\")        "
   ]
  },
  {
   "cell_type": "code",
   "execution_count": 1,
   "metadata": {},
   "outputs": [
    {
     "name": "stdout",
     "output_type": "stream",
     "text": [
      "Given number is even 12\n"
     ]
    }
   ],
   "source": [
    "a=int(input(\"Enter a number\"))\n",
    "if a%2==0:\n",
    "    print(\"Given number is even\",+a)\n",
    "else:\n",
    "    print(\"Given number is odd\",+a)    "
   ]
  },
  {
   "cell_type": "code",
   "execution_count": null,
   "metadata": {},
   "outputs": [],
   "source": [
    " "
   ]
  }
 ],
 "metadata": {
  "kernelspec": {
   "display_name": "base",
   "language": "python",
   "name": "python3"
  },
  "language_info": {
   "codemirror_mode": {
    "name": "ipython",
    "version": 3
   },
   "file_extension": ".py",
   "mimetype": "text/x-python",
   "name": "python",
   "nbconvert_exporter": "python",
   "pygments_lexer": "ipython3",
   "version": "3.10.8"
  },
  "orig_nbformat": 4,
  "vscode": {
   "interpreter": {
    "hash": "29f034c8d701d9a7457d6467c6d3d60cfdf32c62b2b99b789beba229e04a26a3"
   }
  }
 },
 "nbformat": 4,
 "nbformat_minor": 2
}
